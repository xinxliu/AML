{
 "cells": [
  {
   "cell_type": "markdown",
   "metadata": {},
   "source": [
    "# Neighborhood Components Analysis in Python\n",
    "\n",
    "I wrote a simple implementation implemention of the neighborhood components analysis method (NCA) for learning a Mahalanobis distance measure that attempts to optimize the performance of a k-nearest-neighbor classifier. \n",
    "\n",
    "Basically the method introduces a transformation matrix $A$, which maps from the (raw) input space for the covariates ($X$) to a transformed space, i.e. $x_i^{trans} = Ax_i$. The transformation matrix $A$ is optimized using a differentiable cost function based on the stochastic assignment of neighbors, similar to the t-SNE method [1,2] (note that Geoff Hinton is a common author to both methods).\n",
    "\n",
    "$p_{ij} = \\frac{exp(-\\|Ax_i - Ax_j\\|)^2}{\\sum_{k\\neq i}exp(-\\|Ax_i - Ax_k\\|)^2}$, where $p_{ij}$ is the probability of sample $i$ choosing $j$ as its neighbor in the transformed space.\n",
    "\n",
    "Now we can specify a cost function that pulls points from the same class closer together:\n",
    "\n",
    "$f(A) = \\sum_i \\sum_{j\\in C_i} p_{ij}. $, where $C_i$ is the class label of sample $i$.\n",
    "\n",
    "Since the cost function is differentiable with respect to $A$ we can optimize it using gradient descent. For more details see references [1-3].\n",
    "\n",
    "\n",
    "### References\n",
    "[1] J. Goldberger, S. Roweis, G. Hinton, and R. Salakhutdinov. Neighbourhood components analysis.\n",
    "In L. K. Saul, Y. Weiss, and L. Bottou, editors, Advances in Neural Information Processing\n",
    "Systems 17, pages 513–520, Cambridge, MA, 2005. MIT Press.<br/>\n",
    "[2] L. van der Maaten and G. E. Hinton, \"Visualizing data using t-Sne,\" Journal of Machine Learning Research, vol. 9, pages 2579-2605, November 2008.<br/>\n",
    "[3] http://www.wikicoursenote.com/wiki/Neighbourhood_Components_Analysis\n",
    "\n",
    "\n",
    "## A simple example\n",
    "I wanted to test my NCA implemention (and also just see what the algorithm does), so I tried it on a toy problem of just two four sample points and just two classes. I placed the sample point in rectangle, so that the nearest neighbor would lead to a misclassification (i.e. the nearest neighbor to each point is a point from the opposite class). While this is a simple problem for a classifier like logistic regression, k-nearest-neighbors would typically get an accuracy of zero here."
   ]
  },
  {
   "cell_type": "code",
   "execution_count": 1,
   "metadata": {
    "collapsed": false
   },
   "outputs": [],
   "source": [
    "from sklearn.model_selection import cross_val_score, LeaveOneOut\n",
    "from sklearn.metrics import log_loss, accuracy_score\n",
    "from nca import *\n",
    "import pandas as pd\n",
    "import numpy as np\n",
    "from sklearn.neighbors import KNeighborsClassifier as kNN\n",
    "import matplotlib\n",
    "%matplotlib inline\n",
    "import seaborn as sns; sns.set()\n",
    "from matplotlib import animation, rc\n",
    "from IPython.display import HTML"
   ]
  },
  {
   "cell_type": "code",
   "execution_count": 2,
   "metadata": {
    "collapsed": false
   },
   "outputs": [
    {
     "data": {
      "text/plain": [
       "(-0.5, 0.5)"
      ]
     },
     "execution_count": 2,
     "metadata": {},
     "output_type": "execute_result"
    },
    {
     "data": {
      "image/png": "[encoded data removed]",
      "text/plain": [
       "<matplotlib.figure.Figure at 0x7f3030502410>"
      ]
     },
     "metadata": {},
     "output_type": "display_data"
    }
   ],
   "source": [
    "# place four points in a rectangle\n",
    "#  and then view those points...\n",
    "X = np.array( [[0,0], [0.,0.1], [0.3,0.1], [0.3, 0.0]] )\n",
    "y = np.array( [0, 1, 1, 0] )\n",
    "\n",
    "Xcl1 = X[y == 0]\n",
    "Xcl2 = X[y == 1]\n",
    "cl1, = sns.plt.plot(Xcl1[:,0], Xcl1[:,1], linestyle='', marker='o', color='b')\n",
    "cl2, = sns.plt.plot(Xcl2[:,0], Xcl2[:,1], linestyle='', marker='o', color='r')\n",
    "sns.plt.xlim((-0.5, 0.5))\n",
    "sns.plt.ylim((-0.5, 0.5))"
   ]
  },
  {
   "cell_type": "code",
   "execution_count": 3,
   "metadata": {
    "collapsed": false
   },
   "outputs": [
    {
     "name": "stdout",
     "output_type": "stream",
     "text": [
      "(0.0, 0.0)\n"
     ]
    }
   ],
   "source": [
    "# This is a method to get the accuracy (using leave-one-out validation) of the data\n",
    "def assess_perf(clf, X, y, scoring='accuracy', cv=None):\n",
    "    if cv is None: cv = LeaveOneOut()\n",
    "    scores = cross_val_score(clf, X, y, scoring=scoring, cv=cv)\n",
    "    return np.mean(scores), np.std(scores)\n",
    "\n",
    "knn = kNN(n_neighbors=1, weights='distance', algorithm='brute', n_jobs=-1)\n",
    "print assess_perf(knn, X, y, scoring='accuracy')"
   ]
  },
  {
   "cell_type": "code",
   "execution_count": 4,
   "metadata": {
    "collapsed": false,
    "scrolled": false
   },
   "outputs": [
    {
     "name": "stdout",
     "output_type": "stream",
     "text": [
      "NCA progress: 0% 10% 20% 30% 40% 50% 60% 70% 80% 90% Done.\n"
     ]
    }
   ],
   "source": [
    "# We can initialise the transformation matrix to \n",
    "# anything we like, here we choose a diagonal matrix.\n",
    "A = np.eye(X.shape[1])\n",
    "# Store the transformed data, accuracies and the delta_A at each iteration\n",
    "Xtrfmed = []\n",
    "accs = []\n",
    "diffs = []\n",
    "n_elements_in_A = A.shape[0]*A.shape[1]\n",
    "\n",
    "print 'NCA progress:',\n",
    "for i in range(200): # 200 iterations\n",
    "    if i%20 == 0: print '{:d}%'.format(int(i*100/200.)),\n",
    "    A_prev = np.copy(A)\n",
    "    # do  a simple step of the NCA method, matrix A will be updated\n",
    "    nca(A, X, y, lr=0.5)\n",
    "    Adiff = np.sum(np.abs(A_prev - A))/n_elements_in_A  \n",
    "    Xtransformed = transform(A, X)\n",
    "    Xtrfmed.append(Xtransformed)\n",
    "    acc, _ = assess_perf(knn, Xtransformed, y, scoring='accuracy')\n",
    "    accs.append(acc)\n",
    "    diffs.append(Adiff)\n",
    "    \n",
    "print 'Done.'"
   ]
  },
  {
   "cell_type": "markdown",
   "metadata": {},
   "source": [
    "The NCA ran for 200 iterations, let's plot the accuracy of the transformed data, and the change in $A$ with each iteration."
   ]
  },
  {
   "cell_type": "code",
   "execution_count": 5,
   "metadata": {
    "collapsed": false
   },
   "outputs": [
    {
     "data": {
      "text/plain": [
       "<matplotlib.text.Text at 0x7f302c12a590>"
      ]
     },
     "execution_count": 5,
     "metadata": {},
     "output_type": "execute_result"
    },
    {
     "data": {
      "image/png": "[encoded data removed]",
      "text/plain": [
       "<matplotlib.figure.Figure at 0x7f3064abe710>"
      ]
     },
     "metadata": {},
     "output_type": "display_data"
    }
   ],
   "source": [
    "fig, (ax1, ax2) = sns.plt.subplots(1, 2, figsize=(14,4))\n",
    "ax1.plot(accs)\n",
    "ax2.plot(diffs)\n",
    "ax1.set_xlabel('Epochs (iterations)')\n",
    "ax2.set_xlabel('Epochs (iterations)')\n",
    "ax1.set_ylabel('Accuracy (on tranformed data)')\n",
    "ax2.set_ylabel('Per-element change in A')"
   ]
  },
  {
   "cell_type": "markdown",
   "metadata": {
    "collapsed": true
   },
   "source": [
    "We could actually stop after just $58$ iterations, as the transformationmatrix has already learned a good mapping with $100%$ classification accuracy by this point. The nice thing about this toy problem in this example is that we could solve it by hand: you want to either squeeze the feature-space in the x-direction (horizontal) or strength in the y-direction. By animating the learned representation at every iteration we can see what NCA actually did to the feature-space..."
   ]
  },
  {
   "cell_type": "code",
   "execution_count": 6,
   "metadata": {
    "collapsed": false,
    "scrolled": false
   },
   "outputs": [
    {
     "data": {
      "text/html": [
       "<video width=\"576.0\" height=\"396.0\" controls autoplay loop>\n",
       "  <source type=\"video/mp4\" src=\"data:video/mp4;base64,AAAAHGZ0eXBNNFYgAAACAGlzb21pc28yYXZjMQAAAAhmcmVlAAAwdG1kYXQAAAKvBgX//6vcRem9\n",
       "5tlIt5Ys2CDZI+7veDI2NCAtIGNvcmUgMTQ4IHIyNjQzIDVjNjU3MDQgLSBILjI2NC9NUEVHLTQg\n",
       "QVZDIGNvZGVjIC0gQ29weWxlZnQgMjAwMy0yMDE1IC0gaHR0cDovL3d3dy52aWRlb2xhbi5vcmcv\n",
       "eDI2NC5odG1sIC0gb3B0aW9uczogY2FiYWM9MSByZWY9MyBkZWJsb2NrPTE6MDowIGFuYWx5c2U9\n",
       "MHgzOjB4MTEzIG1lPWhleCBzdWJtZT03IHBzeT0xIHBzeV9yZD0xLjAwOjAuMDAgbWl4ZWRfcmVm\n",
       "PTEgbWVfcmFuZ2U9MTYgY2hyb21hX21lPTEgdHJlbGxpcz0xIDh4OGRjdD0xIGNxbT0wIGRlYWR6\n",
       "b25lPTIxLDExIGZhc3RfcHNraXA9MSBjaHJvbWFfcXBfb2Zmc2V0PS0yIHRocmVhZHM9MTIgbG9v\n",
       "a2FoZWFkX3RocmVhZHM9MiBzbGljZWRfdGhyZWFkcz0wIG5yPTAgZGVjaW1hdGU9MSBpbnRlcmxh\n",
       "Y2VkPTAgYmx1cmF5X2NvbXBhdD0wIGNvbnN0cmFpbmVkX2ludHJhPTAgYmZyYW1lcz0zIGJfcHly\n",
       "YW1pZD0yIGJfYWRhcHQ9MSBiX2JpYXM9MCBkaXJlY3Q9MSB3ZWlnaHRiPTEgb3Blbl9nb3A9MCB3\n",
       "ZWlnaHRwPTIga2V5aW50PTI1MCBrZXlpbnRfbWluPTIwIHNjZW5lY3V0PTQwIGludHJhX3JlZnJl\n",
       "c2g9MCByY19sb29rYWhlYWQ9NDAgcmM9Y3JmIG1idHJlZT0xIGNyZj0yMy4wIHFjb21wPTAuNjAg\n",
       "cXBtaW49MCBxcG1heD02OSBxcHN0ZXA9NCBpcF9yYXRpbz0xLjQwIGFxPTE6MS4wMACAAAAJ0mWI\n",
       "hAA///73aJ8Cm1pDeoDklcUl20+B/6tncHyP6QMAAAMAAAMAAIDgO/WSlFvtbKQAAA8/VgApkjOo\n",
       "gAAGyLoenyeOZ9mNcA69eVJMD+GETOjrV915Lbkm/77xDJUblyrxalTT5Y9ZwFrRCls2IHSKW2e3\n",
       "2evpJ7xEHTMHPGWV9CnBYESh4rpGLbY82MM7ymHMdHM8Em1qvPoBdWUdFxS4ce2P7rxNdvsa9pF4\n",
       "GaJ90YkDqG+hNPn4nAkLJeBkDXJBgfDdywqJk6NN/94y9FH0/yttCH9+mR+4WxhD22B2+VDZ2EJY\n",
       "IQUKDgSKWi7GwG9yEUw2Wmlhlyv5CwVFjKDGv0g+9lovdH2uGABSmr84iBi1bgclst8VLbJ1V2Fx\n",
       "84/0yixM2yt2q37R49XxZZPDMIGOi3o4cfEJLjIkgK5C3mxZV9+u3qZJzKlWQWqmZ4EXGqnMVYkA\n",
       "y7Ap46zZ7UbQ1dzQx5H7R+VL2JU5KD/z/QtGxazvhRh8VZfgAAL9UxLC0VIBA0AJDqtr2JhV3qy9\n",
       "CDFwM5ULl/dSTlJKfQx6S0//07jyroJgEvFawPDnAv/fy/0uMqyWOalfLY1cnyyB3q2lETJtEGrf\n",
       "Kemq5S8pqDgNSqqg4vKgDMo0JXRVuaTVCNwnA5cL/o9WFHnWwKjTl8rnQUyvHWX41afpw3y9Hbiy\n",
       "6ud6UemlvRWcsinHIaeqAflFpm9bL3HHACraXvaXeSOg66ih6w2w5sDRvFN1ZvjPppkspIG5hB/y\n",
       "nYoNpUdnIVGW7Xf8+eDoZpNCHp+1Muns/W2n5UvOLUKnxDmfqV8jd0fGmOHjv4ADnU6exQ9ZwgxP\n",
       "WZSLOkKwCzPhGzPKZQ/DyM++MSeiIBMNM45RClBCCnlQu+Cdn0SK6j8WGe0uGFrrmj8dFiTzgUHu\n",
       "IPKpfTbwbD9PP2IxHDqxyrci26aXsief6ZdRNPx/lD8VvMPNTFxVqPepKjYhl6zdT3KsK1EekXkn\n",
       "jGhxlInNhSywCV6N93JspJsXadIVXIDYVopcclaiwJY3t0A28GalonVLWZ2jBWMU+92UyrMMk35P\n",
       "ZFI/ufc0awtAubsWPZadLF7lIfyf3EA+Y9j5eImxHiVA+nlz629ePOg4bKkWj4knIvLdo6x6LE2F\n",
       "UJqLzFSA1xGqz1OoVm4tDiumJHIxOkrzH3nd7CJQQSicxT+MXKm4J8vuBrmgyDHjPCLBjLfZtkVj\n",
       "NRKSwYV/9aaA+wweau6YkP7Lyxtr87awKY8qi2aCDujDDxv4IoeuZ2ePqFkfTBSLC2YJ9levlDcW\n",
       "D9CeJ2nPLbDv2AplkPne6qHpbkC0rLOLXqs1+cOzOuNC/1vw4K1BwNIUQ7nknFoibfCZJgRlDLtk\n",
       "jmgDb4iYnN220R4f6TUZWaP1ZfWELw4A40Yuwbrl4LCZ0VK+ne5z3kmCEpx67D79H526wrJ5N52J\n",
       "/k4HA+KnN5+9/DVypRlpaIAxUXQmqhBmaMvCH7cgfiJZ3PcnTOAf5V2Yx8W3XaNr4vIc8eNp6kUa\n",
       "x0cHRlnYP9BwMUB6Zjm37+YjrQLko4r5XiEYmUcUOJRTdzeb6tSuoN9TYs/yr/WvdQj3/nuU1D60\n",
       "yPdKol3YdBua+z8z4/znwG0J9p7npmpy7wiX7nBrSlskgbSS4S+4QyOj4/ubnrymku46XcJkAE23\n",
       "/gPbIt84ExOOxO6DjWnfnroajXzD9IAPX1BKhSFzMHclcmjUPyntuCVz+eZtsA0wabqSbc7vnpL5\n",
       "2zo38BuFRzmGiiGzQonU0bK+xqWIvycNw58C5meKFhn9bAf7Lg1qwR1zWXh7F/aHys4XUluJUHrX\n",
       "P6/i6JRsFRmGTEvWz5ZsKXmOhnejBcDBEDdr64DlzlHTq9clt+GBx1+qh5fuYxhLYpY8/vWF/13S\n",
       "4DGMCNlzZCwzpYtxJy5YRHVfVS7dSFhIcgN6eK/ngKA7/BjKC9Bws+mcrND/nGegSdSdzdO3sq0d\n",
       "2bIPVJLxb0kwTLJWbiOMdvKM82cEcNPr9OEP9Hu7AIzkTfL04HXWo2GPUVrBKK8gxfEZMYBlX50d\n",
       "Me1Qs+mZB/5E66ivZUagvMHrnjAXOSAere9uS/DjYxYgL2HeRRpkCCNrr1+EhD9h4viJXv0V4BJr\n",
       "XABdGwgJEFbffJjIASzto1W+WbivEBxqYK0JXK8lXXaF/Kp2imoVNqmyHvArI6TSJFrRKotqBdY8\n",
       "HwO+WG3nUJ6sV+5enmmyvbhYwfCwpLpcTp7vpQzqBY6p4xE7pR/pSnBtAz8eyOGgLLrie3kDqX+o\n",
       "aIHhkuB9SFOUtaSya5XnWh2+jxD380Vn/8QzwwyTRnELmoUydtAEd0780Mulsz8muXOJDllTppm4\n",
       "ZNa9QFk3EDU2hLznmB6a/XtqfHEthLz2wNQTns8UOctxCMfalfYPmX2XiYnYjC+jQ+9acDwFxop2\n",
       "HYtSuWbN+aHgWCaXTaq/cyXeLleueFw/lSjltf35hZCul4D3gyBSKsXNs7yRWtX6ThXyJebyQTrv\n",
       "P/vSL5S69C/GRyuxtV2g+CXhjTtBm7+BV82MV4bepfndQLXcVgn0rmIKRzUhHBDdjg7Z9NwTNXNg\n",
       "dcScGGlTmAt9Gup06iNk62I9M1hKZVe0Z4vtHkE70GhA31CQ8/pzXvLCZaabHUcLaxzD9Oh6ykKP\n",
       "jywcakBfiOd905tKEBjpiwf2DzjGw4/WJPyel5yaEmmiQagRpifbwqCMn0IeGlkwTMYF1xmbEpWT\n",
       "Bbs6qjvD4pF0TlmaxOMmm3cKRtFUPHJ5u1II2bI5JbjlugUKJwqfPlKvypGl5jSNcNFnjQsm8OXr\n",
       "ODCyO6xgoj35IPlqGfSUBOqlvuNusDINKLKkVK+iodzfbvtQ9yWxwDGHqIHtW94WJwtj6eVuJaSA\n",
       "IW1uCj9jApUU3aX4vWVh6B/2XwFV+v8ChTj+g+vnQ/qP/7uKiEdazN+bg8oSY3Muiv4xzq+sEDEp\n",
       "AXT/uCcUOBAYRfEWCTGI7mHzIaH4lG0+uZOVaEDEWaeRmukfQqphC8Bi2vz2wCjn1A49QZGTTtEr\n",
       "JZx2N6bfyva7PfNdJSqyjJ4Q2mVK+kM1bDWMv8Im90kVHnXD39oX3HBmXW0Cg6PA6eSes3GhSjXT\n",
       "WXtEciVAJVVJ397wA3fyIL52VWczdZUSMvBZDON+O3SaQpCeGzvaa2gjdjoJi02LH2VgFEP5uKXS\n",
       "wQ/OJliWNrzWNwjD/54tlKcEfBPvInnwgRLe1xVbVf2WNdkSxEO8q3A1qgVn74Q8s+O0SAza20Yf\n",
       "fjvd/AlXE+XsuxIPSJ/y3D1LhZwPkL1abi6ok57Zn5Q4bMor51GjT75OMaGp6zcxpUyEEodAAAje\n",
       "T3wBUwAAAT5BmiRsQ//+qZYAEYbglwTO5s00vZX/b/8E6Lk+hS+UP60a4CobYO7dV4zOY6DC2ibC\n",
       "hT9+dauvBekmLjRmOrohGG/ALt+9XM9SeNyu+t8hx1zngXtxYgjjEVlPjuk+05E3014BfcEamAUV\n",
       "QYjHaLvZqXCjZ1l/eE6KdmZxFiezmrucCRhFIVRleGaTMmq2DiYEeAWa6WI7gYZaKR9hkqhKMyZt\n",
       "LovEcCaPVN3Phh2yZd6qIn3Umrnc58rVj12qm+EQCESXcHDaKiooB0qe4FQkD6Wu122KtohIUpvt\n",
       "lJj+oQ/EhMk6CQLbWaVezt6bJsRGH7oyln4BIbkttjhBj5PfjUsdu0hBN7NHKcfu80IekLOhtryP\n",
       "yoQOmjNWfRqygH6Zoh8PlO30J+eW07sGWziO0hnNXFCtbIq+dOgqglYAAAAvQZ5CeIZ/AAAbpJpJ\n",
       "6LsYBNSUADvps2A5dxjVE4uFaEyPnjQW1I0npvdx1tcqBJ0AAAAeAZ5hdEK/AAAyPby1r9RgASjc\n",
       "yfzDBfe1L92Q6Aj4AAAAGQGeY2pCvwAAM46FqCVY0mO3DTkYkA20A3sAAABaQZpoSahBaJlMCH//\n",
       "/qmWAAAmCcWNQENqYcgJzrnq/45yDq0SG45tRFln2vivLiStTJcYcxFCFLWBGBc3KbjPIqM5tllU\n",
       "xvjDXspDDnyZpvrgriyt3i7MGC6ZAAAAHkGehkURLDP/AAAgsXFQpU/3UTzYcHg0ELjsp0YIeQAA\n",
       "ABoBnqV0Qr8AADzRGTWA7WDgmlfWAykyR8A2YQAAABUBnqdqQr8AADOA5Ir1EaktjPdwDugAAABQ\n",
       "QZqsSahBbJlMCH///qmWAAAmDLNfWmOg00ugAVsdvg3/jcWza8pLMs3VNiwptJIwqVkSvt9cJwJN\n",
       "Sg8wYK7xGhw7Y/CFgU4pXMvb/u0gK2AAAAAfQZ7KRRUsM/8AACC3GzLgta94365VKzyqHZZO6YC2\n",
       "gQAAABUBnul0Qr8AADN+KkSuAAsNt4w4B3QAAAAdAZ7rakK/AAA8zLfi2Mc5D/Cjt0+sVhWNpXTA\n",
       "W0AAAABSQZrwSahBbJlMCH///qmWAAAgCrtySIkAAGpZQNELcXsFq+ct8jTFenyQPqWkAieDNEFZ\n",
       "Jd7iIkyh6h92ZLqNnPBvL0P7mnKuL9IZtPbUsTAE3QAAAB1Bnw5FFSwz/wAAHEbtiiCvd5mXbKCJ\n",
       "CceoJcAzIQAAABgBny10Qr8AADS1IABrFTdd/tiboSn8Am8AAAAgAZ8vakK/AAA0s91B8ACtcKeS\n",
       "IULi6xy3I3Ejn32gLOAAAABrQZs0SahBbJlMCH///qmWAAAmCcWNQCJPfOP3X+it+X35tPQ8tr2g\n",
       "3FEB3JBgze9LY20JM/YJjXvomP+4jLEjYF9pkO38qwREaoBz/sOFKfMXToF0vOMH2rTvz5HiJO0U\n",
       "DJLCUNC9wuKAb0AAAAAvQZ9SRRUsM/8AACC3GyklCyp9QAjbJE1HE/F8PR+lM5HetmzmY+3uHLZF\n",
       "BoCgJ2EAAAAmAZ9xdEK/AAA0ofkn0A/+WIAVZcIrEEVumHbMJSSsCR4HpFFAD0gAAAArAZ9zakK/\n",
       "AAA8wJFSI1Ez4ARhHO+nKrzb1BbBsfEWaEqYzz0Ty/nqzYDPgAAAAG5Bm3hJqEFsmUwIf//+qZYA\n",
       "ACEsPtPuAAo4ogO4wpQdpahaUmbL4XrvSZfGxPS4C6PXR7V/n65AnIEnfBAH/e4ZK5V/ez9kUSdH\n",
       "j3PWrMU44DpI0FA7hdOodHJwG5sg8e+qLXTCushvIH/0i2QFVQAAADNBn5ZFFSwz/wAAHPyUW1Rn\n",
       "SAFa7CM8gZ8WXrJXH8k+ba0O0HnYygSR0mx8ywhkclyAKSAAAAAhAZ+1dEK/AAA2EaDny4rjnpex\n",
       "9hIAA0wpsWBCWQQlgGfBAAAAGQGft2pCvwAANgDkE2fq9LpDk/lRwStANSEAAACGQZu8SahBbJlM\n",
       "CH///qmWAAAmCcWNQCVOMrMRITHwuwbv+E/pk3v6EGhqtA1X97JcDDPHuvkL/g4Ob9X1KBfYC6j9\n",
       "+VMhJEbPioxi3MaYxlQRC7/iBVwC+fh8LYBozh6TKPlBZnMXHb9vDNzqHCPr1NcvPDBoxbk11vbs\n",
       "8GeNRSDS1RsMBZQAAAA2QZ/aRRUsM/8AACCxc5R56GeM4z4A2d88DwKztecfwMgdTkxo2uoOJFSu\n",
       "ARf4IxzmNYFGcAxZAAAALgGf+XRCvwAAPLwahgCm45gBm+ebAEUalr9ulMfuHua9kNKe1V28PUK+\n",
       "J8cAxYAAAAAbAZ/7akK/AAA2AaAHqOoQ1+/b1a6HaBC33gLLAAAARUGb4EmoQWyZTAh///6plgAA\n",
       "JgyzW70Afv00XoIV3YeD3sq2biJxpq+OG4VLM9wepj+N+CQPULlTQaFpofLEJ19k2cYVgQAAABxB\n",
       "nh5FFSwz/wAAILFzlHp0pzdNXh+JXymDwGpAAAAAKAGePXRCvwAAPNEe3Jae+AEX7cyDgvbjdJn9\n",
       "J9b3HPzUz29FpLvAHdAAAAAYAZ4/akK/AAA2AaCyFayLrhtUN8AUwBaRAAAAY0GaJEmoQWyZTAh/\n",
       "//6plgAAJgyzX1vj6tlaXbHtg7YRFuKJ8gIsot1i40atksNA8zNelJ0T4nfqw/JD5RxyaNzDQ56I\n",
       "6lLnfIQZJ01zb5iY+AZ7GsUtMIqO1w0zj2vk8UBqQAAAAClBnkJFFSwz/wAAILcbsnTjIwAkSh1c\n",
       "lA6vU/7Az1nzzlDTk7NUN8AHrQAAACEBnmF0Qr8AADX+idMAHcQUL0plKgqwGRMO9leRE1hgJuAA\n",
       "AAAiAZ5jakK/AAA8zLpc4OVgA7q9RQTtoXtHcNAdgmwLFFACBwAAAFpBmmhJqEFsmUwIf//+qZYA\n",
       "ACIGBvngER5FNmDOr6BHBTc75P1s2QnHXScGMPRXEx8XRHhAyckOCKiclaA71ZTpkeEYCnnqhHA8\n",
       "zApX32NW2jdhU4m/8CNAWcEAAAAgQZ6GRRUsM/8AAB2yLDWCDNw84DbaRIANOuQ7f4xATcEAAAAi\n",
       "AZ6ldEK/AAA3T7uirhgA7p9JzkqtnU2vJDXPig4VLGANmQAAABUBnqdqQr8AADdOhl/Z8OTbPzNA\n",
       "GzAAAACAQZqsSahBbJlMCH///qmWAAAmLRgJsAf6q/NDXto4Q7ZoBkTUhkyTEosKXMYKXORwEg+7\n",
       "5zKk3poJhWMHYl2hw+cMUMjuRUrJc8XH6l8crasFZW4j5mKincdYX5jbpMukQGUb6IqPNfAfBB19\n",
       "jPGDo4OcQXGaJFIYskN8P+NkApoAAAAjQZ7KRRUsM/8AACCxdQYaD0ygBmOQTOd+NFRmtuJqqgoA\n",
       "CRkAAAAkAZ7pdEK/AAA8vBx8z9gAVrSmEMny+NNVgCTuh9FzTt6ngGVAAAAAFAGe62pCvwAAN0P+\n",
       "H7lqbLXw0AbMAAAAUUGa8EmoQWyZTAh///6plgAAJgyzX13hDbs3Aviq3qLmEpsB6jf86jGu0B5g\n",
       "hwttWQYLDTFTtrObDY4wkElcR6DtVQgFqFOGp7R3mVmFqz4GVQAAABxBnw5FFSwz/wAAILF1F2sW\n",
       "nb621e2q8jdGxAMrAAAAGAGfLXRCvwAAPNEiqD/qAtNMAsIbvMwFbQAAABIBny9qQr8AADdOliw3\n",
       "RDdABNwAAAAkQZs0SahBbJlMCH///qmWAAAmDLNfXeENuzdBgTzaWIijgCPgAAAAGEGfUkUVLDP/\n",
       "AAAgsXUFCZ+JoZldTWAD7wAAABUBn3F0Qr8AADzRIm6j/xJBn6wAPuAAAAAUAZ9zakK/AAA3QaDC\n",
       "8ty9VUgAm4AAAAA4QZt4SahBbJlMCH///qmWAAAmDLNfXfZt8jwAqPc0b5aWk4xWz/hvNSKmrkyJ\n",
       "dDempDv/vMUYCbkAAAAeQZ+WRRUsM/8AACCxdQYbJxNYgATaABbdctRxAK+AAAAAFAGftXRCvwAA\n",
       "PNEitCcTusGyANSBAAAAEgGft2pCvwAAN0QrV/2hJABNwQAAADNBm7xJqEFsmUwIf//+qZYAACYM\n",
       "s19d4QYs3QYONWwXelOk3qz37YhXshp+kFW9an4AIWAAAAAdQZ/aRRUsM/8AACCxdQYhrQAaq7xJ\n",
       "rDq3StQAPuEAAAAVAZ/5dEK/AAA80SKoRHxJAKAyANSAAAAAEwGf+2pCvwAAN0QrYuCIeGkAU0EA\n",
       "AAA8QZvgSahBbJlMCH///qmWAAAmDLNfYDq7LFtm2o0STiVgkOPADANr7S4K81Srjge9nT3mD5nL\n",
       "j7KFpRaRAAAAJEGeHkUVLDP/AAAgsXaWGg9MoASN6rbJUKk1OW7tLWn370YCpgAAABcBnj10Qr8A\n",
       "ADzRJrZB/qvzPFirI1ABGwAAABQBnj9qQr8AADigOx+5amy18NAGpQAAADBBmiRJqEFsmUwIf//+\n",
       "qZYAACYMs19gOrssW2bajRJOJWCQy1RxahiNR6sdujtIVzgAAAAhQZ5CRRUsM/8AACCxdpYaDwwh\n",
       "Ump+4O2ogBXk5k5EAEbBAAAAHgGeYXRCvwAAPNEmtkH/mYARk6l8EjakZGg6AACNgAAAABQBnmNq\n",
       "Qr8AADigOx+5amy18NAGpQAAADdBmmhJqEFsmUwIf//+qZYAACYMs19gOrssMEAIAs3iLa7wvNP7\n",
       "Jx0k1n8VGvdPDBF9l+MffudxAAAAJUGehkUVLDP/AAAgsXaWGg9MoAZrgm8aKHzTmnLd2lVRVAEA\n",
       "EbEAAAAYAZ6ldEK/AAA80Sa2QEsm/me2hhDuACNhAAAAFAGep2pCvwAAOKA7H7lqbLXw0AakAAAA\n",
       "O0GarEmoQWyZTAh///6plgAAYIdOIvCLwiPsAOgGN72zAzupb/x19gOmGvIyt+SdGNpUIcpWULTM\n",
       "5DfgAAAALEGeykUVLDP/AABUIEaoRIEWzMZOgAkJngTilsB56ZCOe/SFXVJSBOwjICVhAAAAFwGe\n",
       "6XRCvwAAPLwe36PQbSxeeQFRAMWAAAAAFwGe62pCvwAAmuxPYpTdGUZB4WxGYCLgAAAATUGa8Emo\n",
       "QWyZTAh///6plgAAYIdWxqASC5DUQE+ue7/HOtd5lGJuI3Kh9IAEFXkYYyJCHnveY4JkVykm3KRO\n",
       "MFF5npXsMuhjA4ZZSALTAAAAJEGfDkUVLDP/AABUIEamVYld87GgAf8DiywiAowSTeJ9rvAFJQAA\n",
       "ABMBny10Qr8AAI74hwRDavvxwDPhAAAAFwGfL2pCvwAAmsmdqCnLfTlZm15YkARMAAAAQkGbNEmo\n",
       "QWyZTAh///6plgAAYIxmiLwtaiIwQAnx1qxq5HN74QjMJOjiUrmz6y+K7LGtkqCdxegR7KNCfVkr\n",
       "vlAFxAAAACBBn1JFFSwz/wAAVBRdLDYgsLNmOlQyfIYAP1DU5egCJwAAABUBn3F0Qr8AAJr5DBBX\n",
       "aQ0JCncAwIAAAAATAZ9zakK/AACOyON0Ltz63ABVwAAAADVBm3hJqEFsmUwIf//+qZYAAGCHTiLw\n",
       "4WPzcpACoJ3l/ZSteIyndbMaS+p7RL0NRkdFEAAU0QAAACJBn5ZFFSwz/wAAU+C+v05RbGerJhAQ\n",
       "AzXKeYCZkmNwYDAgAAAAGAGftXRCvwAAmrpsc8TM4CrJfS0xtmAwIQAAABMBn7dqQr8AAJrsT2KU\n",
       "3RkZAAxZAAAATUGbvEmoQWyZTAh///6plgAAYIdWxqAHziTxt0bhghoKYNoQMY4yCB4qTG3R0MbE\n",
       "/WUg5pXD4szh3vAN084dl8mrrdPgch33V27aXAKuAAAAJEGf2kUVLDP/AABUFF0sQMgArZxe330Y\n",
       "YdwfQYX+Sy/zFGAccQAAAB0Bn/l0Qr8AAJr5C+FN4ARe6SvUOVwIiBGWAQBEwAAAABUBn/tqQr8A\n",
       "AI7r7oASaXjDO4yAesEAAABRQZvgSahBbJlMCH///qmWAABgh04RJAFRHHYNoRBI/dWngM+kY3/p\n",
       "FXXXA5Oh+1lRj08nO8s2lYhV2PlF8/Dn58RIa9L5T6hH+LC+oOqPGAO7AAAAIUGeHkUVLDP/AABT\n",
       "4L6/RauZK/o8hwutNGmEzgud3QBSQAAAABMBnj10Qr8AAJq6bMPm83fmAChgAAAAEwGeP2pCvwAA\n",
       "msmd5BjQadLIAz8AAABhQZokSahBbJlMCH///qmWAABgKmq2+AAcNQB346AqCjvcyXQNqg5PcNY+\n",
       "AQunsycMms3qt5rNuxEh88W9QFp3SOd8m64r7PQCBktou3528MNkPLBNdHR+Img6RSPZBu0BJwAA\n",
       "ACtBnkJFFSwz/wAAxBrzHUzc3VkAE5Y/ogX3k/cKD/G3eJMZjNcQH9LBMBgRAAAAFAGeYXRCvwAA\n",
       "mvkMEJNNGsGyAM+AAAAAEgGeY2pCvwABa+TPPE3iFgABbQAAAE5BmmhJqEFsmUwIf//+qZYAAGAy\n",
       "exfvgAHDYV7/XTX9yGSlWx0Oa34ou2Wv7dup0STBA15xZBhtgt3XjkG2PM0QRSoSvE8Oe2yHsTyA\n",
       "K+EAAAAnQZ6GRRUsM/8AAMQm/2AecNwAJyx/RA6gSKAs1Phsm5PZGISQKgMrAAAAJQGepXRCvwAB\n",
       "Z7MkGPMpjYAO6SAm8VRDQOFAzEUULdIzemkIAccAAAAVAZ6nakK/AAFnsyQbHzC8f8dAAKGAAAAA\n",
       "R0GarEmoQWyZTAh///6plgAAYCpqthwAWM6+aVOFuSum3bzafZYvv1jXybngShGa4tJyDZWi9k7w\n",
       "rj539rS5SVT/JNQpkLGAAAAAN0GeykUVLDP/AADJGlFp4caFKj7GyMWAHGBEn7HtUtCsMxxWiQxP\n",
       "y6wtyBP9AwO9MS2KtrEAOOEAAAAhAZ7pdEK/AAF0xYHn/6Riy2ABn/PXrFsdXEpJaPKtICRgAAAA\n",
       "GgGe62pCvwABdOQsHJQdxBPyoE+CTluBQFbAAAAAnEGa8EmoQWyZTAh///6plgAA7qcJxZH6LSK7\n",
       "YXHLwfBJwRip9yG+/nZKIzdtOrlYJrTenDWOh9Rkc/6LMer3eVP/aLf4mKt16i1RqyFlApYPhBzk\n",
       "9mPx5yCEEBVZWM2rgLJdVS5gwqgVV5ZH/c48u6ek/GLv9BxXyKLaWENJnIbSngJIoijUBvZ++GpP\n",
       "hlrtX0XyZ6hFdt3ROoM8awAAAB5Bnw5FFSwz/wAAw/xmUE+ytAPzW9ihd4GM+looCtkAAAAUAZ8t\n",
       "dEK/AAFrTDtSXlJxGCAA6YEAAAAWAZ8vakK/AACa7FfeacfqvtNwz+ACJgAAAEtBmzRJqEFsmUwI\n",
       "f//+qZYAAO6mlNDPzWdx9lsCbca2wAllkKQ3iekyt/kEq46Q358+DMknGuPwUOmAVJmFp6GT7H6y\n",
       "g56cn59SX8AAAAAuQZ9SRRUsM/8AANMNQnpP58fNij3fSm8OK0gBtVFw5kDwDrs9ZB/nga5Cy6CS\n",
       "ywAAABcBn3F0Qr8AAYf/jG0d20KSX0AR1vYHXAAAACABn3NqQr8AAYgi2BSZ8AM2ZSiNgbdWbI94\n",
       "OZABkbL36gAAAGlBm3hJqEFsmUwIf//+qZYAAO6mL3GAFEfXSLWbiVumUcxLP1TfpDhZ6o/bkzke\n",
       "cBY18PqpDtLrVk52uzo6s7c1i6bcbhHOT/qZd70eIC+JQfRbHQEt3j+mvj6e3IQWrHiRFnPBWvLf\n",
       "VZsAAABKQZ+WRRUsM/8AANgaz8EiDd4zWAAz6Ru2z/R7ZI0Wva8CM/R1s76JXEFTlFD0D01fnQXM\n",
       "ZZReJDrjURvT0ivZ3HE7l9pMEHPiPWAAAAAvAZ+1dEK/AAGSjY3HDrF7dWaQwegBLCbQ+ZDAXiU9\n",
       "u7bZSLJ9f+RPqIkgAqZQkYEAAAAZAZ+3akK/AAGIdE56JE3Fr+o/K9RwT8AwIQAAAGZBm7xJqEFs\n",
       "mUwIf//+qZYAAmDLK70GKnWJ2heR6LkJ216UlAAM/FDH/J93LUjN2zXWy859LI7fIzbQ1gwE8lIn\n",
       "o1u73TL/ERnDiaugUEIKPePyrCKXFTQ5aanrfZbzLtJKDIAAmYAAAAAyQZ/aRRUsM/8AANgm9sFx\n",
       "i5ELOl7diYPsAIf876JXEFTlFDu2MxABmI50JawACuYgmYEAAAAVAZ/5dEK/AAGR/dgRzEA33r32\n",
       "AAFtAAAAGAGf+2pCvwABknQg/KAVYe4iEf76AAC7gQAAAG5Bm+BJqEFsmUwId//+qZYAAO6l3JeA\n",
       "FRs4AJh0NcJ7jWPBU+FIYc2vjsALR15+a6HXEUn2aj2tB5TBvahpA3DOkpcpDSs5kXHKgXY2rp1o\n",
       "RjdnaqP7OZH5eGZit4NHj2CPL/oPZT7xYW0ClgD5gQAAACBBnh5FFSwz/wAA2DDWqDL0cCo1eEIP\n",
       "Zd0ZniDzMxY5uAAAABcBnj10Qr8AAZH91oKlCgZB5HQBZQARMAAAABQBnj9qQr8AAZJ0IPjYoZsg\n",
       "wABNwQAAAGxBmiRJqEFsmUwId//+qZYAAmBmiHf651kbQRExvu7PjMMt7z0wwOoWfzyK3JY9+5h5\n",
       "TyklGKbfJRZVO09QclZ25y1RJESACZSGGjl/gkhQMb48QtoY1eodK7Il0syWZQKrM5SB5XorAPeZ\n",
       "GzgAAAAaQZ5CRRUsM/8AANgw1qhUglImrsU1+UAAPCEAAAAXAZ5hdEK/AAGR/eeHdfXW9YpnncQA\n",
       "eEAAAAAUAZ5jakK/AAGSdCD42KGbIMAATcEAAAA4QZpoSahBbJlMCG///qeEAAS0/reu8M9ImJMS\n",
       "j2AJxprawmjGyJgPd9yA1auGE+QmcHfQEsqAK+EAAAAeQZ6GRRUsM/8AAgtKivdVQx8xczcVXBMB\n",
       "reDGwC2hAAAAIAGepXRCvwADzRKwvmNdsf5kO8DBwaQqRRge+9yMANSBAAAAFwGep2pCvwADzG8h\n",
       "rL4WtXz4v0ZgAFVAAAAAP0GaqUmoQWyZTAh3//6plgACYIxYoAECU+u+WSVa+pxX7mY6lyHwsiM6\n",
       "J0grVr37IvY9uab/Wn2hCb6yo4AekAAAACBBmspJ4QpSZTAh3/6plgACYLU1A90Tvha8cwz2wABH\n",
       "wQAAAGVBmu5J4Q6JlMCHf/6plgAGBMenw+ZaCcqRmEG1VP6qbRDsALO9VqKq7BURWsM7KSX88z3x\n",
       "KLPSA2QErecI9bqkE4ya/BhQCESc2ovV8McIHkND1aoPFzxCOsck+y+JhOAf/igKCAAAACFBnwxF\n",
       "ETwz/wACC0qJAf2DwQihOvgqsaXkNgSKOuwAAeEAAAAaAZ8rdEK/AAPNZkWlJqI+7Vlz2ef5p/aA\n",
       "lYEAAAASAZ8takK/AAPMbyGy0AMwAAIvAAAAIEGbL0moQWiZTAh///6plgACYL7OsGTvIZbaxLo0\n",
       "AAEHAAAAg0GbU0nhClJlMCH//qmWAAYCmMvEkgjOkmEUnM+/xyn/RGZTIA4EEorzUt8qx79q5H15\n",
       "3zSKH5JK6TFBbFe8/3mxacOWL8bjImXxPy1KBXVK9pf9Ifo2Jkh/NLoVO0pe35YXETfQATzfTxLe\n",
       "rfwX515vzGDM+t2RtDuLprI96SQJkBHwAAAAGUGfcUU0TDP/AAILhEh1Kfkgckc7NoCQEfAAAAAV\n",
       "AZ+QdEK/AAPNZkWlJp9Ke5FwpgGVAAAAEgGfkmpCvwADzGsc1jrpmAABFwAAAD5Bm5dJqEFomUwI\n",
       "d//+qZYAJj2bcVd4nlya1m3A8VUVlNaVFwA0wSmqToi7LGRtkgGfG+cxkGdyelE8zUgHhAAAAB5B\n",
       "n7VFESwz/wAgsWU7CsQUlsFVRBl4EroHunZAJWEAAAAWAZ/UdEK/AAmwiPtu//7WSN+4AACHgAAA\n",
       "ABgBn9ZqQr8ACa2woTWeFbBzzn/YUhFAELEAAAApQZvbSahBbJlMCHf//qmWAAYCoxmMxI1RUI5q\n",
       "/0BXm8yu2OBzvqAAKmEAAAAXQZ/5RRUsM/8ABUGoDrdMfDJlBaQAAwIAAAAVAZ4YdEK/AAmwiPtu\n",
       "//kEw/4AAOmBAAAAEgGeGmpCvwAJrbChNZ4fPAABiwAAAFBBmhxJqEFsmUwIf//+qZYADk+fpcxj\n",
       "wc+igGQISi+0aIsnNW/+ojI5oiXBFDSUAW7/mKcxP3ld7gJhEDNHFoqQ1jFICQQ5/S/Svkk1VGAB\n",
       "ewAAADlBmiBJ4QpSZTAh//6plgAO+LUODRuLTY/jXhRTT7shg4YuARQlP+N3f0fJ95tCa4+Ez5aX\n",
       "dzh+PcEAAAAtQZ5eRTRMM/8ADSxkembEAa8wHvuwQUf6j5UIgyO0fCcLdbbAFE0ou8AkAAEvAAAA\n",
       "GQGefXRCvwAYiQYECZGLUAHsdTh2+AAA2YAAAAAdAZ5/akK/ABhx3ZuBx+VgAZ9SlEylTK1BSfgA\n",
       "AXcAAABHQZpkSahBaJlMCH///qmWACYHZvqxaVNgSGyXc3cPs1CwAnHRcoXtfEFlxwXGpjnBLIhJ\n",
       "oSooE/Hrq4w3m72wyz3SsnUAI2AAAAAeQZ6CRREsM/8ADS04f0evDAegNeTyHlzIaG6QAAS9AAAA\n",
       "FgGeoXRCvwAYfETMiSL3FM8HingAAXcAAAAcAZ6jakK/ABh7a9LFAB84N4Ho/blzHWlkAABBwQAA\n",
       "AFtBmqhJqEFsmUwIf//+qZYAJgdmxYg5iZ4TW8o/O0AU4vNJZIKUV8xnsSLH7rtMFZ/RBLMY9rTr\n",
       "V7u8P3EnWsp4FzV5wqwoHyxsreGQpRY1jUam8KwI2quRJdunAAAAH0GexkUVLDP/AA0yiZ4vcvFh\n",
       "gATVV4tAxUBlvJUAZUEAAAAVAZ7ldEK/ABiBjIaaenz5KS1y5AGVAAAAEgGe52pCvwAYhM9NZfCM\n",
       "gAAIOAAAAEBBmuxJqEFsmUwIf//+qZYAJgmmpnuWC9QCdXWclqndjQ9/iHVsjjoOK+aWM+QSumcM\n",
       "KCDQNiDPuBshnmgAAMyAAAAALUGfCkUVLDP/ACC3M7zuVG8DsjzYhR0tLsGcPQi4HOZoQWyrTimL\n",
       "a0nAAACtgQAAABYBnyl0Qr8AGIGM6KAD2QhVLtmAAALKAAAAFgGfK2pCvwA8xvIbLP/3OQfyiQAA\n",
       "HdAAAABdQZswSahBbJlMCH///qmWACYL7bXGAFEfW3QpP+A982bE3lBRiJLQ4W+CK3YH4vOUrxJE\n",
       "INDHCBWf6AcE6MpZZzzaHTcqGv2e7oqZDBUdUkLnyJchvtlgOJoAADMhAAAALEGfTkUVLDP/ACC0\n",
       "yJ8fLMkJ52Gc0gBK2ZB0qeGaV5QQAG0DeskOJgMAACDhAAAAIgGfbXRCvwA81mRaUmlzUqkKsMxg\n",
       "AuRdWETSP5VHAAADArcAAAASAZ9vakK/ADzAoznCXEbwAAEnAAAAckGbdEmoQWyZTAh///6plgAm\n",
       "DLJs3gAVwm769vK69N/BjNOfQcWMBFe8BjlUyJH1c9pcTfRAtPdtXI67oLxUiUkp/zDVWg0p4h07\n",
       "zb0PtmDLfMLzLebL/oG24OFjFO8vVsFudAtPXlAJZQ17T+o4g4XrcAAAACNBn5JFFSwz/wAhtw9s\n",
       "IkizA4cO/qhjbSJIuFlEqi+MAAAk4QAAACcBn7F0Qr8APNZkW3f/9uiggBXh9u8P1ga5K4wIBBqC\n",
       "4BsJ1gAABWwAAAASAZ+zakK/AD4skqIBjumAAAKuAAAAJ0GbuEmoQWyZTAh///6plgAmCbRF9y7E\n",
       "O+8AGpDXiS8oOYKcQAAErQAAABhBn9ZFFSwz/wAhuuyN9BLKd2iCBgAAEXAAAAASAZ/1dEK/AD4b\n",
       "9Q0YdIMAAAelAAAAEgGf92pCvwA+LJKiAY7pgAACrwAAADRBm/xJqEFsmUwId//+qZYAJgi0Trim\n",
       "8qytMgBnv1ZOM4y6dTpHOuECpLSO4hqwseowSAZUAAAAHEGeGkUVLDP/ACG67I30E0PDVnuzqcTt\n",
       "ImWcA3sAAAASAZ45dEK/AD4b9Q0YdIMAAAekAAAAFgGeO2pCvwA+LJKiAY7pilJoisqYC7kAAAAs\n",
       "QZogSahBbJlMCHf//qmWACYIxYoACo71RNPx7f8GZgq2au7wctv+YAAA34EAAAAYQZ5eRRUsM/8A\n",
       "IbFX1jxXpredl9Rg8AR8AAAAEwGefXRCvwA+HCGOLzznvMiAN6AAAAATAZ5/akK/ADzARpDQhjtc\n",
       "G0ATcQAAAB1BmmRJqEFsmUwIb//+p4QAS1WDqjdcsmgcAAAQMAAAABdBnoJFFSwz/wAgsVpXkI4X\n",
       "mKos10ATcQAAABMBnqF0Qr8APNDH+AU8M2MIIA3oAAAAEQGeo2pCvwA7bKRg/i+zgBSRAAAAHEGa\n",
       "p0moQWyZTAhX//44QAR1URldObADd2AAAUEAAAASQZ7GQhX/ADzAT1UAVezAAAFfAAAAEwGe5WkQ\n",
       "rwA8u+rQkI4pfNmQAvMAAAyHbW9vdgAAAGxtdmhkAAAAAAAAAAAAAAAAAAAD6AAAJxAAAQAAAQAA\n",
       "AAAAAAAAAAAAAAEAAAAAAAAAAAAAAAAAAAABAAAAAAAAAAAAAAAAAABAAAAAAAAAAAAAAAAAAAAA\n",
       "AAAAAAAAAAAAAAAAAAAAAgAAC7F0cmFrAAAAXHRraGQAAAADAAAAAAAAAAAAAAABAAAAAAAAJxAA\n",
       "AAAAAAAAAAAAAAAAAAAAAAEAAAAAAAAAAAAAAAAAAAABAAAAAAAAAAAAAAAAAABAAAAAAkAAAAGM\n",
       "AAAAAAAkZWR0cwAAABxlbHN0AAAAAAAAAAEAACcQAAAEAAABAAAAAAspbWRpYQAAACBtZGhkAAAA\n",
       "AAAAAAAAAAAAAAAoAAABkABVxAAAAAAALWhkbHIAAAAAAAAAAHZpZGUAAAAAAAAAAAAAAABWaWRl\n",
       "b0hhbmRsZXIAAAAK1G1pbmYAAAAUdm1oZAAAAAEAAAAAAAAAAAAAACRkaW5mAAAAHGRyZWYAAAAA\n",
       "AAAAAQAAAAx1cmwgAAAAAQAACpRzdGJsAAAAtHN0c2QAAAAAAAAAAQAAAKRhdmMxAAAAAAAAAAEA\n",
       "AAAAAAAAAAAAAAAAAAAAAkABjABIAAAASAAAAAAAAAABAAAAAAAAAAAAAAAAAAAAAAAAAAAAAAAA\n",
       "AAAAAAAAAAAAGP//AAAAMmF2Y0MBZAAW/+EAGWdkABas2UCQM/uEAAADAAQAAAMAoDxYtlgBAAZo\n",
       "6+PLIsAAAAAcdXVpZGtoQPJfJE/FujmlG88DI/MAAAAAAAAAGHN0dHMAAAAAAAAAAQAAAMgAAAIA\n",
       "AAAAFHN0c3MAAAAAAAAAAQAAAAEAAAZIY3R0cwAAAAAAAADHAAAAAQAABAAAAAABAAAKAAAAAAEA\n",
       "AAQAAAAAAQAAAAAAAAABAAACAAAAAAEAAAoAAAAAAQAABAAAAAABAAAAAAAAAAEAAAIAAAAAAQAA\n",
       "CgAAAAABAAAEAAAAAAEAAAAAAAAAAQAAAgAAAAABAAAKAAAAAAEAAAQAAAAAAQAAAAAAAAABAAAC\n",
       "AAAAAAEAAAoAAAAAAQAABAAAAAABAAAAAAAAAAEAAAIAAAAAAQAACgAAAAABAAAEAAAAAAEAAAAA\n",
       "AAAAAQAAAgAAAAABAAAKAAAAAAEAAAQAAAAAAQAAAAAAAAABAAACAAAAAAEAAAoAAAAAAQAABAAA\n",
       "AAABAAAAAAAAAAEAAAIAAAAAAQAACgAAAAABAAAEAAAAAAEAAAAAAAAAAQAAAgAAAAABAAAKAAAA\n",
       "AAEAAAQAAAAAAQAAAAAAAAABAAACAAAAAAEAAAoAAAAAAQAABAAAAAABAAAAAAAAAAEAAAIAAAAA\n",
       "AQAACgAAAAABAAAEAAAAAAEAAAAAAAAAAQAAAgAAAAABAAAKAAAAAAEAAAQAAAAAAQAAAAAAAAAB\n",
       "AAACAAAAAAEAAAoAAAAAAQAABAAAAAABAAAAAAAAAAEAAAIAAAAAAQAACgAAAAABAAAEAAAAAAEA\n",
       "AAAAAAAAAQAAAgAAAAABAAAKAAAAAAEAAAQAAAAAAQAAAAAAAAABAAACAAAAAAEAAAoAAAAAAQAA\n",
       "BAAAAAABAAAAAAAAAAEAAAIAAAAAAQAACgAAAAABAAAEAAAAAAEAAAAAAAAAAQAAAgAAAAABAAAK\n",
       "AAAAAAEAAAQAAAAAAQAAAAAAAAABAAACAAAAAAEAAAoAAAAAAQAABAAAAAABAAAAAAAAAAEAAAIA\n",
       "AAAAAQAACgAAAAABAAAEAAAAAAEAAAAAAAAAAQAAAgAAAAABAAAKAAAAAAEAAAQAAAAAAQAAAAAA\n",
       "AAABAAACAAAAAAEAAAoAAAAAAQAABAAAAAABAAAAAAAAAAEAAAIAAAAAAQAACgAAAAABAAAEAAAA\n",
       "AAEAAAAAAAAAAQAAAgAAAAABAAAKAAAAAAEAAAQAAAAAAQAAAAAAAAABAAACAAAAAAEAAAoAAAAA\n",
       "AQAABAAAAAABAAAAAAAAAAEAAAIAAAAAAQAACgAAAAABAAAEAAAAAAEAAAAAAAAAAQAAAgAAAAAB\n",
       "AAAKAAAAAAEAAAQAAAAAAQAAAAAAAAABAAACAAAAAAEAAAoAAAAAAQAABAAAAAABAAAAAAAAAAEA\n",
       "AAIAAAAAAQAACgAAAAABAAAEAAAAAAEAAAAAAAAAAQAAAgAAAAABAAAKAAAAAAEAAAQAAAAAAQAA\n",
       "AAAAAAABAAACAAAAAAEAAAoAAAAAAQAABAAAAAABAAAAAAAAAAEAAAIAAAAAAQAACgAAAAABAAAE\n",
       "AAAAAAEAAAAAAAAAAQAAAgAAAAABAAAKAAAAAAEAAAQAAAAAAQAAAAAAAAABAAACAAAAAAIAAAQA\n",
       "AAAAAQAACgAAAAABAAAEAAAAAAEAAAAAAAAAAQAAAgAAAAABAAAEAAAAAAEAAAoAAAAAAQAABAAA\n",
       "AAABAAAAAAAAAAEAAAIAAAAAAQAACgAAAAABAAAEAAAAAAEAAAAAAAAAAQAAAgAAAAABAAAKAAAA\n",
       "AAEAAAQAAAAAAQAAAAAAAAABAAACAAAAAAEAAAQAAAAAAQAACgAAAAABAAAEAAAAAAEAAAAAAAAA\n",
       "AQAAAgAAAAABAAAKAAAAAAEAAAQAAAAAAQAAAAAAAAABAAACAAAAAAEAAAoAAAAAAQAABAAAAAAB\n",
       "AAAAAAAAAAEAAAIAAAAAAQAACgAAAAABAAAEAAAAAAEAAAAAAAAAAQAAAgAAAAABAAAKAAAAAAEA\n",
       "AAQAAAAAAQAAAAAAAAABAAACAAAAAAEAAAoAAAAAAQAABAAAAAABAAAAAAAAAAEAAAIAAAAAAQAA\n",
       "CgAAAAABAAAEAAAAAAEAAAAAAAAAAQAAAgAAAAABAAAKAAAAAAEAAAQAAAAAAQAAAAAAAAABAAAC\n",
       "AAAAAAEAAAoAAAAAAQAABAAAAAABAAAAAAAAAAEAAAIAAAAAAQAACgAAAAABAAAEAAAAAAEAAAAA\n",
       "AAAAAQAAAgAAAAABAAAIAAAAAAEAAAQAAAAAAQAAAAAAAAAcc3RzYwAAAAAAAAABAAAAAQAAAMgA\n",
       "AAABAAADNHN0c3oAAAAAAAAAAAAAAMgAAAyJAAABQgAAADMAAAAiAAAAHQAAAF4AAAAiAAAAHgAA\n",
       "ABkAAABUAAAAIwAAABkAAAAhAAAAVgAAACEAAAAcAAAAJAAAAG8AAAAzAAAAKgAAAC8AAAByAAAA\n",
       "NwAAACUAAAAdAAAAigAAADoAAAAyAAAAHwAAAEkAAAAgAAAALAAAABwAAABnAAAALQAAACUAAAAm\n",
       "AAAAXgAAACQAAAAmAAAAGQAAAIQAAAAnAAAAKAAAABgAAABVAAAAIAAAABwAAAAWAAAAKAAAABwA\n",
       "AAAZAAAAGAAAADwAAAAiAAAAGAAAABYAAAA3AAAAIQAAABkAAAAXAAAAQAAAACgAAAAbAAAAGAAA\n",
       "ADQAAAAlAAAAIgAAABgAAAA7AAAAKQAAABwAAAAYAAAAPwAAADAAAAAbAAAAGwAAAFEAAAAoAAAA\n",
       "FwAAABsAAABGAAAAJAAAABkAAAAXAAAAOQAAACYAAAAcAAAAFwAAAFEAAAAoAAAAIQAAABkAAABV\n",
       "AAAAJQAAABcAAAAXAAAAZQAAAC8AAAAYAAAAFgAAAFIAAAArAAAAKQAAABkAAABLAAAAOwAAACUA\n",
       "AAAeAAAAoAAAACIAAAAYAAAAGgAAAE8AAAAyAAAAGwAAACQAAABtAAAATgAAADMAAAAdAAAAagAA\n",
       "ADYAAAAZAAAAHAAAAHIAAAAkAAAAGwAAABgAAABwAAAAHgAAABsAAAAYAAAAPAAAACIAAAAkAAAA\n",
       "GwAAAEMAAAAkAAAAaQAAACUAAAAeAAAAFgAAACQAAACHAAAAHQAAABkAAAAWAAAAQgAAACIAAAAa\n",
       "AAAAHAAAAC0AAAAbAAAAGQAAABYAAABUAAAAPQAAADEAAAAdAAAAIQAAAEsAAAAiAAAAGgAAACAA\n",
       "AABfAAAAIwAAABkAAAAWAAAARAAAADEAAAAaAAAAGgAAAGEAAAAwAAAAJgAAABYAAAB2AAAAJwAA\n",
       "ACsAAAAWAAAAKwAAABwAAAAWAAAAFgAAADgAAAAgAAAAFgAAABoAAAAwAAAAHAAAABcAAAAXAAAA\n",
       "IQAAABsAAAAXAAAAFQAAACAAAAAWAAAAFwAAABRzdGNvAAAAAAAAAAEAAAAsAAAAYnVkdGEAAABa\n",
       "bWV0YQAAAAAAAAAhaGRscgAAAAAAAAAAbWRpcmFwcGwAAAAAAAAAAAAAAAAtaWxzdAAAACWpdG9v\n",
       "AAAAHWRhdGEAAAABAAAAAExhdmY1Ni40MC4xMDE=\n",
       "\">\n",
       "  Your browser does not support the video tag.\n",
       "</video>"
      ],
      "text/plain": [
       "<IPython.core.display.HTML object>"
      ]
     },
     "execution_count": 6,
     "metadata": {},
     "output_type": "execute_result"
    },
    {
     "data": {
      "image/png": "[encoded data removed]",
      "text/plain": [
       "<matplotlib.figure.Figure at 0x7f3030498050>"
      ]
     },
     "metadata": {},
     "output_type": "display_data"
    }
   ],
   "source": [
    "# First set up the figure, the axis, and the plot element we want to animate\n",
    "fig = sns.plt.figure()\n",
    "ax = sns.plt.axes(xlim=(-0.5, 0.5), ylim=(-0.5, 0.5))\n",
    "\n",
    "#line, = ax.plot([], [], lw=2, color='b')\n",
    "cl1, = ax.plot([],[], linestyle='', marker='o', color='b')\n",
    "cl2, = ax.plot([],[], linestyle='', marker='o', color='r')\n",
    "# initialization function: plot the background of each frame\n",
    "def init():\n",
    "    cl1.set_data([], [])\n",
    "    cl2.set_data([], [])\n",
    "    return [cl1, cl2,]\n",
    "\n",
    "# animation function.  This is called sequentially\n",
    "def animate(t):\n",
    "    X_transformed_at_t = Xtrfmed[t]\n",
    "    Xtcl1 = X_transformed_at_t[y == 0]\n",
    "    Xtcl2 = X_transformed_at_t[y == 1]\n",
    "    cl1.set_data(Xtcl1[:,0], Xtcl1[:,1])\n",
    "    cl2.set_data(Xtcl2[:,0], Xtcl2[:,1])\n",
    "    return [cl1, cl2, ]\n",
    "\n",
    "# call the animator. \n",
    "anim = animation.FuncAnimation(fig, animate, init_func=init, \n",
    "                               frames=range(len(Xtrfmed)), \n",
    "                               interval=50, blit=True)\n",
    "sns.plt.grid(True)\n",
    "HTML(anim.to_html5_video())"
   ]
  }
 ],
 "metadata": {
  "anaconda-cloud": {},
  "kernelspec": {
   "display_name": "Python 2",
   "language": "python",
   "name": "python2"
  },
  "language_info": {
   "codemirror_mode": {
    "name": "ipython",
    "version": 2
   },
   "file_extension": ".py",
   "mimetype": "text/x-python",
   "name": "python",
   "nbconvert_exporter": "python",
   "pygments_lexer": "ipython2",
   "version": "2.7.12"
  }
 },
 "nbformat": 4,
 "nbformat_minor": 2
}
